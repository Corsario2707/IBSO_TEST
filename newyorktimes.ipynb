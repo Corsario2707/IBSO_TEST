{
 "cells": [
  {
   "cell_type": "code",
   "execution_count": 1,
   "metadata": {},
   "outputs": [],
   "source": [
    "import requests\n",
    "import tkinter as tk\n",
    "from tkinter import simpledialog, messagebox, scrolledtext\n",
    "\n",
    "def get_best_sellers(api_key, list_name, date=None):\n",
    "    base_url = \"https://api.nytimes.com/svc/books/v3/lists\"\n",
    "    if date:\n",
    "        url = f\"{base_url}/{date}/{list_name}.json?api-key={api_key}\"\n",
    "    else:\n",
    "        url = f\"{base_url}/current/{list_name}.json?api-key={api_key}\"\n",
    "    response = requests.get(url)\n",
    "    if response.status_code == 200:\n",
    "        return response.json()\n",
    "    else:\n",
    "        print(\"Failed to retrieve data.\")\n",
    "        print(\"HTTP Status Code:\", response.status_code)\n",
    "        print(\"Response Text:\", response.text)\n",
    "        return None\n",
    "\n",
    "def display_books_gui(books):\n",
    "    root = tk.Tk()\n",
    "    root.title(\"NYT Best Sellers\")\n",
    "    text_area = scrolledtext.ScrolledText(root, wrap=tk.WORD, width=80, height=20, font=(\"Times New Roman\", 12))\n",
    "    text_area.grid(column=0, pady=10, padx=10)\n",
    "    for book in books:\n",
    "        title = book['title']\n",
    "        author = book['author']\n",
    "        description = book['description']\n",
    "        buy_links = '\\n'.join([link['url'] for link in book['buy_links']]) if book['buy_links'] else \"Not available\"\n",
    "        review_link = book['book_review_link'] if 'book_review_link' in book and book['book_review_link'] else \"No review available\"\n",
    "        text_area.insert(tk.END, f\"Title: {title}\\nAuthor: {author}\\nDescription: {description}\\nBuy here: {buy_links}\\nReview: {review_link}\\n\\n\")\n",
    "    text_area.configure(state='disabled')\n",
    "    root.mainloop()\n",
    "\n",
    "def main():\n",
    "    root = tk.Tk()\n",
    "    root.withdraw()\n",
    "    api_key = 'BxUGrNCDEZuY3PQwoRjCim0zkzUT5LCA'\n",
    "    list_name = simpledialog.askstring(\"Input\", \"Enter the list name (e.g., 'hardcover-fiction'):\", parent=root)\n",
    "    date = simpledialog.askstring(\"Input\", \"Enter date (YYYY-MM-DD) or leave blank for current best sellers:\", parent=root)\n",
    "    root.destroy()\n",
    "\n",
    "    books_data = get_best_sellers(api_key, list_name, date)\n",
    "    if books_data and 'results' in books_data and 'books' in books_data['results']:\n",
    "        display_books_gui(books_data['results']['books'])\n",
    "    else:\n",
    "        messagebox.showerror(\"Error\", \"Failed to retrieve data or data format is incorrect.\")\n",
    "\n",
    "if __name__ == \"__main__\":\n",
    "    main()\n"
   ]
  }
 ],
 "metadata": {
  "kernelspec": {
   "display_name": "base",
   "language": "python",
   "name": "python3"
  },
  "language_info": {
   "codemirror_mode": {
    "name": "ipython",
    "version": 3
   },
   "file_extension": ".py",
   "mimetype": "text/x-python",
   "name": "python",
   "nbconvert_exporter": "python",
   "pygments_lexer": "ipython3",
   "version": "3.11.5"
  }
 },
 "nbformat": 4,
 "nbformat_minor": 2
}
