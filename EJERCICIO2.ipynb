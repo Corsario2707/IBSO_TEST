{
 "cells": [
  {
   "cell_type": "code",
   "execution_count": 3,
   "metadata": {},
   "outputs": [
    {
     "name": "stdout",
     "output_type": "stream",
     "text": [
      "La suma de los valores de las letras en la cadena 'abcd' es 10.\n"
     ]
    }
   ],
   "source": [
    "# Ejercicio 2: Asignar valores a letras minúsculas y sumar los valores de una cadena\n",
    "\n",
    "# Paso 1: Crear una función para asignar valores a las letras y sumar los valores en una cadena\n",
    "def suma_valores_cadena(cadena):\n",
    "    # Diccionario para asignar valores a las letras de la 'a' a la 'z'\n",
    "    valores_letras = {chr(i): i - 96 for i in range(97, 123)}\n",
    "    # chr(i) convierte el número ASCII en su carácter correspondiente\n",
    "    # 97 es el valor ASCII de 'a', y 123 es el valor ASCII de '{' (no incluido)\n",
    "    \n",
    "    suma_total = 0  # Inicializar la suma total\n",
    "    for index, letra in enumerate(cadena):\n",
    "        # Verificar si el carácter es una letra minúscula\n",
    "        if letra.islower():\n",
    "            # Sumar el valor de la letra a la suma total\n",
    "            suma_total += valores_letras[letra]\n",
    "        # Verificar si el carácter es una letra mayúscula\n",
    "        elif letra.isupper():\n",
    "            # Avisar al usuario que hay una letra mayúscula y necesita cambiarla\n",
    "            print(f\"Cambia a minúscula la letra '{letra}' en la posición {index + 1}.\")\n",
    "            return  # Detener la función hasta que el usuario ingrese una cadena válida\n",
    "        # Verificar si el carácter es un número\n",
    "        elif letra.isdigit():\n",
    "            # Avisar al usuario que hay un número en la cadena y necesita cambiarlo\n",
    "            print(f\"Cambia el número en la posición {index + 1} por una letra minúscula.\")\n",
    "            return  # Detener la función hasta que el usuario ingrese una cadena válida\n",
    "        else:\n",
    "            # Si hay cualquier otro carácter no permitido\n",
    "            print(f\"Caracter inválido '{letra}' en la posición {index + 1}.\")\n",
    "            return\n",
    "\n",
    "    # Retornar la suma total de los valores de las letras si todo está correcto\n",
    "    return suma_total\n",
    "\n",
    "# Paso 2: Solicitar al usuario una cadena de letras minúsculas\n",
    "cadena_usuario = input(\"Introduce una cadena de letras minúsculas: \")\n",
    "\n",
    "# Paso 3: Llamar a la función y mostrar el resultado si la cadena es válida\n",
    "resultado = suma_valores_cadena(cadena_usuario)\n",
    "if resultado is not None:  # Asegurarse de que la función no retornó por un error de entrada\n",
    "    print(f\"La suma de los valores de las letras en la cadena '{cadena_usuario}' es {resultado}.\")\n"
   ]
  }
 ],
 "metadata": {
  "kernelspec": {
   "display_name": "base",
   "language": "python",
   "name": "python3"
  },
  "language_info": {
   "codemirror_mode": {
    "name": "ipython",
    "version": 3
   },
   "file_extension": ".py",
   "mimetype": "text/x-python",
   "name": "python",
   "nbconvert_exporter": "python",
   "pygments_lexer": "ipython3",
   "version": "3.11.5"
  }
 },
 "nbformat": 4,
 "nbformat_minor": 2
}
