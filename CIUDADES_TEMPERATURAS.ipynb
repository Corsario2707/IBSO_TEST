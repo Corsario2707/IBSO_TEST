{
 "cells": [
  {
   "cell_type": "code",
   "execution_count": 4,
   "metadata": {},
   "outputs": [
    {
     "name": "stdout",
     "output_type": "stream",
     "text": [
      "Ciudad de México: Promedio = 23.57°C, Máxima = 26°C, Mínima = 22°C\n",
      "Guadalajara: Promedio = 18.86°C, Máxima = 21°C, Mínima = 17°C\n",
      "Monterrey: Promedio = 30.86°C, Máxima = 33°C, Mínima = 29°C\n",
      "Cancún: Promedio = 15.29°C, Máxima = 17°C, Mínima = 14°C\n",
      "\n",
      "Resultados finales:\n",
      "La ciudad con la temperatura promedio más alta es Monterrey con 30.86°C.\n",
      "La ciudad con la temperatura promedio más baja es Cancún con 15.29°C.\n"
     ]
    }
   ],
   "source": [
    "# Ejercicio 1: Análisis de datos climáticos de varias ciudades\n",
    "\n",
    "# Paso 1: Creando un diccionario llamado 'datos_climaticos'\n",
    "# Este diccionario almacenará las temperaturas registradas en varias ciudades durante una semana\n",
    "datos_climaticos = {\n",
    "    \"Ciudad de México\": [23, 25, 22, 24, 26, 23, 22],\n",
    "    \"Guadalajara\": [18, 17, 19, 21, 20, 18, 19],\n",
    "    \"Monterrey\": [30, 32, 31, 29, 30, 31, 33],\n",
    "    \"Cancún\": [15, 14, 16, 17, 16, 15, 14]\n",
    "}\n",
    "\n",
    "# Paso 2: Inicializando variables para almacenar resultados\n",
    "# Estas variables nos ayudarán a identificar las ciudades con la temperatura promedio más alta y más baja\n",
    "ciudad_temp_max = \"\"\n",
    "ciudad_temp_min = \"\"\n",
    "max_temp_promedio = float('-inf')  # Usamos '-inf' para asegurarnos de que cualquier temperatura la supere\n",
    "min_temp_promedio = float('inf')   # Usamos 'inf' para asegurarnos de que cualquier temperatura la supere\n",
    "\n",
    "# Paso 3: Iterando sobre cada ciudad en el diccionario\n",
    "for ciudad, temperaturas in datos_climaticos.items():\n",
    "    # Calculando la temperatura promedio de la semana\n",
    "    temp_promedio = sum(temperaturas) / len(temperaturas)\n",
    "    \n",
    "    # Determinando la temperatura máxima y mínima de la semana\n",
    "    temp_max = max(temperaturas)\n",
    "    temp_min = min(temperaturas)\n",
    "    \n",
    "    # Imprimiendo los resultados de la ciudad actual\n",
    "    print(f\"{ciudad}: Promedio = {temp_promedio:.2f}°C, Máxima = {temp_max}°C, Mínima = {temp_min}°C\")\n",
    "    \n",
    "    # Actualizando la ciudad con la temperatura promedio más alta\n",
    "    if temp_promedio > max_temp_promedio:\n",
    "        max_temp_promedio = temp_promedio\n",
    "        ciudad_temp_max = ciudad\n",
    "    \n",
    "    # Actualizando la ciudad con la temperatura promedio más baja\n",
    "    if temp_promedio < min_temp_promedio:\n",
    "        min_temp_promedio = temp_promedio\n",
    "        ciudad_temp_min = ciudad\n",
    "\n",
    "# Paso 4: Imprimiendo los resultados finales\n",
    "print(\"\\nResultados finales:\")\n",
    "print(f\"La ciudad con la temperatura promedio más alta es {ciudad_temp_max} con {max_temp_promedio:.2f}°C.\")\n",
    "print(f\"La ciudad con la temperatura promedio más baja es {ciudad_temp_min} con {min_temp_promedio:.2f}°C.\")\n",
    "\n"
   ]
  }
 ],
 "metadata": {
  "kernelspec": {
   "display_name": "base",
   "language": "python",
   "name": "python3"
  },
  "language_info": {
   "codemirror_mode": {
    "name": "ipython",
    "version": 3
   },
   "file_extension": ".py",
   "mimetype": "text/x-python",
   "name": "python",
   "nbconvert_exporter": "python",
   "pygments_lexer": "ipython3",
   "version": "3.11.5"
  }
 },
 "nbformat": 4,
 "nbformat_minor": 2
}
